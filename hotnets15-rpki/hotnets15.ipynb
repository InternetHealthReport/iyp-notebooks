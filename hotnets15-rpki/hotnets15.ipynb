{
 "cells": [
  {
   "cell_type": "markdown",
   "id": "107b14eb-13ff-40b3-acef-a8762ee0ff7a",
   "metadata": {},
   "source": [
    "# [RiPKI: The Tragic Story of RPKI Deployment in the Web Ecosystem](http://www.eecs.qmul.ac.uk/~tysong/files/HotNets15.pdf)\n",
    "\n",
    "## Summary\n",
    "### Approach\n",
    "This paper investigates the deployment of RPKI for popular websites in 2015.\n",
    "\n",
    "\n",
    "### Datasets\n",
    "Data collected in 2014-2015:\n",
    "- Alexa top 1 million websites\n",
    "- Resolved domain names to IPs using Google DNS\n",
    "- RIPE RIS data to map IP to prefixes and originating ASes\n",
    "- RPKI data\n"
   ]
  },
  {
   "cell_type": "markdown",
   "id": "5f4a4287-9ed4-485b-8238-ef3d93dbc55a",
   "metadata": {},
   "source": [
    "## (Section 4.1) Less Popular Content is More Secured\n",
    "\n",
    "### Original results\n",
    "\n",
    "- 0.09% of the prefixes for Alexa top 1m are invalid\n",
    "- 6% of the web server prefixes are covered by RPKI (valid and invalid)\n",
    "- For the first 100k domains only ≈4.0% of prefixes are secured via RPKI. For the last 100k domains, ≈5.5% are secured.\n"
   ]
  },
  {
   "cell_type": "markdown",
   "id": "7c0f23e7-52a4-4789-82c4-2a3b71ee5106",
   "metadata": {},
   "source": [
    "### IYP Results"
   ]
  },
  {
   "cell_type": "code",
   "execution_count": 33,
   "id": "55498e6a-9bd5-4f9e-b494-0964a85032e0",
   "metadata": {},
   "outputs": [],
   "source": [
    "# Setup access to IYP\n",
    "from neo4j import GraphDatabase, RoutingControl\n",
    "\n",
    "# Using IYP local instance\n",
    "# URI = \"neo4j://localhost:7687\"\n",
    "# Using IYP public instance\n",
    "URI = \"neo4j+s://iyp-bolt.iijlab.net:7687\"\n",
    "AUTH = ('neo4j', 'password')\n",
    "db = GraphDatabase.driver(URI, auth=AUTH)"
   ]
  },
  {
   "cell_type": "code",
   "execution_count": 34,
   "id": "2c3b2bac-57e1-48f9-a57e-550fbce28561",
   "metadata": {},
   "outputs": [
    {
     "name": "stderr",
     "output_type": "stream",
     "text": [
      "Unable to retrieve routing information\n",
      "Transaction failed and will be retried in 0.8578164394283425s (Unable to retrieve routing information)\n",
      "Unable to retrieve routing information\n",
      "Transaction failed and will be retried in 2.079636822470076s (Unable to retrieve routing information)\n",
      "Unable to retrieve routing information\n",
      "Transaction failed and will be retried in 3.3196371755666667s (Unable to retrieve routing information)\n"
     ]
    },
    {
     "ename": "KeyboardInterrupt",
     "evalue": "",
     "output_type": "error",
     "traceback": [
      "\u001b[0;31m---------------------------------------------------------------------------\u001b[0m",
      "\u001b[0;31mKeyboardInterrupt\u001b[0m                         Traceback (most recent call last)",
      "Cell \u001b[0;32mIn[34], line 19\u001b[0m\n\u001b[1;32m      2\u001b[0m query_all \u001b[38;5;241m=\u001b[39m \u001b[38;5;124m\"\"\"\u001b[39m\n\u001b[1;32m      3\u001b[0m \u001b[38;5;124m// Resolve host names and corresponding rankings from the Tranco top 1 million list and count corresponding prefixes\u001b[39m\n\u001b[1;32m      4\u001b[0m \u001b[38;5;124mMATCH (:Ranking \u001b[39m\u001b[38;5;124m{\u001b[39m\u001b[38;5;124mname:\u001b[39m\u001b[38;5;124m'\u001b[39m\u001b[38;5;124mTranco top 1M\u001b[39m\u001b[38;5;124m'\u001b[39m\u001b[38;5;124m})-[r:RANK]-(d:DomainName)<-[:PART_OF]-(h:HostName)\u001b[39m\n\u001b[0;32m   (...)\u001b[0m\n\u001b[1;32m      7\u001b[0m \u001b[38;5;124mMATCH (h)-[:RESOLVES_TO]->(:IP)-[:PART_OF]->(pfx:Prefix)\u001b[39m\n\u001b[1;32m      8\u001b[0m \u001b[38;5;124mRETURN COUNT(DISTINCT pfx.prefix)\u001b[39m\u001b[38;5;124m\"\"\"\u001b[39m\n\u001b[1;32m     10\u001b[0m query_invalid \u001b[38;5;241m=\u001b[39m \u001b[38;5;124m\"\"\"\u001b[39m\n\u001b[1;32m     11\u001b[0m \u001b[38;5;124m// Resolve host names and corresponding rankings from the Tranco top 1 million list and count corresponding RPKI invalid prefixes\u001b[39m\n\u001b[1;32m     12\u001b[0m \u001b[38;5;124mMATCH (:Ranking \u001b[39m\u001b[38;5;124m{\u001b[39m\u001b[38;5;124mname:\u001b[39m\u001b[38;5;124m'\u001b[39m\u001b[38;5;124mTranco top 1M\u001b[39m\u001b[38;5;124m'\u001b[39m\u001b[38;5;124m})-[r:RANK]-(d:DomainName)<-[:PART_OF]-(h:HostName)\u001b[39m\n\u001b[0;32m   (...)\u001b[0m\n\u001b[1;32m     16\u001b[0m \u001b[38;5;124mWHERE t.label STARTS WITH \u001b[39m\u001b[38;5;124m'\u001b[39m\u001b[38;5;124mRPKI Invalid\u001b[39m\u001b[38;5;124m'\u001b[39m\n\u001b[1;32m     17\u001b[0m \u001b[38;5;124mRETURN COUNT(DISTINCT pfx.prefix)\u001b[39m\u001b[38;5;124m\"\"\"\u001b[39m\n\u001b[0;32m---> 19\u001b[0m res, _, _ \u001b[38;5;241m=\u001b[39m \u001b[43mdb\u001b[49m\u001b[38;5;241;43m.\u001b[39;49m\u001b[43mexecute_query\u001b[49m\u001b[43m(\u001b[49m\u001b[43mquery_all\u001b[49m\u001b[43m,\u001b[49m\u001b[43m \u001b[49m\u001b[43mdatabase_\u001b[49m\u001b[38;5;241;43m=\u001b[39;49m\u001b[38;5;124;43m\"\u001b[39;49m\u001b[38;5;124;43mneo4j\u001b[39;49m\u001b[38;5;124;43m\"\u001b[39;49m\u001b[43m)\u001b[49m;\n\u001b[1;32m     20\u001b[0m all_prefixes \u001b[38;5;241m=\u001b[39m res[\u001b[38;5;241m0\u001b[39m][\u001b[38;5;241m0\u001b[39m]\n\u001b[1;32m     21\u001b[0m res, _, _ \u001b[38;5;241m=\u001b[39m db\u001b[38;5;241m.\u001b[39mexecute_query(query_invalid, database_\u001b[38;5;241m=\u001b[39m\u001b[38;5;124m\"\u001b[39m\u001b[38;5;124mneo4j\u001b[39m\u001b[38;5;124m\"\u001b[39m);\n",
      "File \u001b[0;32m/usr/lib/python3.12/site-packages/neo4j/_sync/driver.py:927\u001b[0m, in \u001b[0;36mDriver.execute_query\u001b[0;34m(self, query_, parameters_, routing_, database_, impersonated_user_, bookmark_manager_, auth_, result_transformer_, **kwargs)\u001b[0m\n\u001b[1;32m    924\u001b[0m     \u001b[38;5;28;01mraise\u001b[39;00m \u001b[38;5;167;01mValueError\u001b[39;00m(\u001b[38;5;124m\"\u001b[39m\u001b[38;5;124mInvalid routing control value: \u001b[39m\u001b[38;5;132;01m%r\u001b[39;00m\u001b[38;5;124m\"\u001b[39m\n\u001b[1;32m    925\u001b[0m                      \u001b[38;5;241m%\u001b[39m routing_)\n\u001b[1;32m    926\u001b[0m \u001b[38;5;28;01mwith\u001b[39;00m session\u001b[38;5;241m.\u001b[39m_pipelined_begin:\n\u001b[0;32m--> 927\u001b[0m     \u001b[38;5;28;01mreturn\u001b[39;00m \u001b[43msession\u001b[49m\u001b[38;5;241;43m.\u001b[39;49m\u001b[43m_run_transaction\u001b[49m\u001b[43m(\u001b[49m\n\u001b[1;32m    928\u001b[0m \u001b[43m        \u001b[49m\u001b[43maccess_mode\u001b[49m\u001b[43m,\u001b[49m\u001b[43m \u001b[49m\u001b[43mTelemetryAPI\u001b[49m\u001b[38;5;241;43m.\u001b[39;49m\u001b[43mDRIVER\u001b[49m\u001b[43m,\u001b[49m\n\u001b[1;32m    929\u001b[0m \u001b[43m        \u001b[49m\u001b[43mwork\u001b[49m\u001b[43m,\u001b[49m\u001b[43m \u001b[49m\u001b[43m(\u001b[49m\u001b[43mquery_str\u001b[49m\u001b[43m,\u001b[49m\u001b[43m \u001b[49m\u001b[43mparameters\u001b[49m\u001b[43m,\u001b[49m\u001b[43m \u001b[49m\u001b[43mresult_transformer_\u001b[49m\u001b[43m)\u001b[49m\u001b[43m,\u001b[49m\u001b[43m \u001b[49m\u001b[43m{\u001b[49m\u001b[43m}\u001b[49m\n\u001b[1;32m    930\u001b[0m \u001b[43m    \u001b[49m\u001b[43m)\u001b[49m\n",
      "File \u001b[0;32m/usr/lib/python3.12/site-packages/neo4j/_sync/work/session.py:582\u001b[0m, in \u001b[0;36mSession._run_transaction\u001b[0;34m(self, access_mode, api, transaction_function, args, kwargs)\u001b[0m\n\u001b[1;32m    579\u001b[0m log\u001b[38;5;241m.\u001b[39mwarning(\u001b[38;5;124m\"\u001b[39m\u001b[38;5;124mTransaction failed and will be retried in \u001b[39m\u001b[38;5;132;01m{}\u001b[39;00m\u001b[38;5;124ms (\u001b[39m\u001b[38;5;132;01m{}\u001b[39;00m\u001b[38;5;124m)\u001b[39m\u001b[38;5;124m\"\u001b[39m\n\u001b[1;32m    580\u001b[0m             \u001b[38;5;124m\"\u001b[39m\u001b[38;5;124m\"\u001b[39m\u001b[38;5;241m.\u001b[39mformat(delay, \u001b[38;5;124m\"\u001b[39m\u001b[38;5;124m; \u001b[39m\u001b[38;5;124m\"\u001b[39m\u001b[38;5;241m.\u001b[39mjoin(errors[\u001b[38;5;241m-\u001b[39m\u001b[38;5;241m1\u001b[39m]\u001b[38;5;241m.\u001b[39margs)))\n\u001b[1;32m    581\u001b[0m \u001b[38;5;28;01mtry\u001b[39;00m:\n\u001b[0;32m--> 582\u001b[0m     \u001b[43msleep\u001b[49m\u001b[43m(\u001b[49m\u001b[43mdelay\u001b[49m\u001b[43m)\u001b[49m\n\u001b[1;32m    583\u001b[0m \u001b[38;5;28;01mexcept\u001b[39;00m asyncio\u001b[38;5;241m.\u001b[39mCancelledError:\n\u001b[1;32m    584\u001b[0m     log\u001b[38;5;241m.\u001b[39mdebug(\u001b[38;5;124m\"\u001b[39m\u001b[38;5;124m[#0000]  _: <SESSION> retry cancelled\u001b[39m\u001b[38;5;124m\"\u001b[39m)\n",
      "\u001b[0;31mKeyboardInterrupt\u001b[0m: "
     ]
    }
   ],
   "source": [
    "# Get the percentage of invalid prefixes\n",
    "query_all = \"\"\"\n",
    "// Resolve host names and corresponding rankings from the Tranco top 1 million list and count corresponding prefixes\n",
    "MATCH (:Ranking {name:'Tranco top 1M'})-[r:RANK]-(d:DomainName)<-[:PART_OF]-(h:HostName)\n",
    "WHERE d.name = h.name \n",
    "WITH DISTINCT h\n",
    "MATCH (h)-[:RESOLVES_TO]->(:IP)-[:PART_OF]->(pfx:Prefix)\n",
    "RETURN COUNT(DISTINCT pfx.prefix)\"\"\"\n",
    "\n",
    "query_invalid = \"\"\"\n",
    "// Resolve host names and corresponding rankings from the Tranco top 1 million list and count corresponding RPKI invalid prefixes\n",
    "MATCH (:Ranking {name:'Tranco top 1M'})-[r:RANK]-(d:DomainName)<-[:PART_OF]-(h:HostName)\n",
    "WHERE d.name = h.name \n",
    "WITH DISTINCT h\n",
    "MATCH (h)-[:RESOLVES_TO]->(:IP)-[:PART_OF]->(pfx:Prefix)-[:CATEGORIZED]-(t:Tag)\n",
    "WHERE t.label STARTS WITH 'RPKI Invalid'\n",
    "RETURN COUNT(DISTINCT pfx.prefix)\"\"\"\n",
    "\n",
    "res, _, _ = db.execute_query(query_all, database_=\"neo4j\");\n",
    "all_prefixes = res[0][0]\n",
    "res, _, _ = db.execute_query(query_invalid, database_=\"neo4j\");\n",
    "rpki_prefixes = res[0][0]\n",
    "print(f'{100*rpki_prefixes/all_prefixes:.2f}% of the prefixes for Tranco are RPKI invalid.')"
   ]
  },
  {
   "cell_type": "code",
   "execution_count": 28,
   "id": "1d67da6b-abaf-4406-b48c-0edab6b96e05",
   "metadata": {},
   "outputs": [
    {
     "ename": "ZeroDivisionError",
     "evalue": "division by zero",
     "output_type": "error",
     "traceback": [
      "\u001b[0;31m---------------------------------------------------------------------------\u001b[0m",
      "\u001b[0;31mZeroDivisionError\u001b[0m                         Traceback (most recent call last)",
      "Cell \u001b[0;32mIn[28], line 9\u001b[0m\n\u001b[1;32m      7\u001b[0m res, _, _ \u001b[38;5;241m=\u001b[39m db\u001b[38;5;241m.\u001b[39mexecute_query(query_rpki, database_\u001b[38;5;241m=\u001b[39m\u001b[38;5;124m\"\u001b[39m\u001b[38;5;124mneo4j\u001b[39m\u001b[38;5;124m\"\u001b[39m);\n\u001b[1;32m      8\u001b[0m rpki_prefixes \u001b[38;5;241m=\u001b[39m res[\u001b[38;5;241m0\u001b[39m][\u001b[38;5;241m0\u001b[39m]\n\u001b[0;32m----> 9\u001b[0m \u001b[38;5;28mprint\u001b[39m(\u001b[38;5;124mf\u001b[39m\u001b[38;5;124m'\u001b[39m\u001b[38;5;132;01m{\u001b[39;00m\u001b[38;5;241;43m100\u001b[39;49m\u001b[38;5;241;43m*\u001b[39;49m\u001b[43mrpki_prefixes\u001b[49m\u001b[38;5;241;43m/\u001b[39;49m\u001b[43mall_prefixes\u001b[49m\u001b[38;5;132;01m:\u001b[39;00m\u001b[38;5;124m.1f\u001b[39m\u001b[38;5;132;01m}\u001b[39;00m\u001b[38;5;124m% of the prefixes for Tranco are covered by RPKI.\u001b[39m\u001b[38;5;124m'\u001b[39m)\n",
      "\u001b[0;31mZeroDivisionError\u001b[0m: division by zero"
     ]
    }
   ],
   "source": [
    "query_rpki = \"\"\"\n",
    "// Resolve host names and corresponding rankings from the Tranco top 1 million list and count corresponding RPKI invalid prefixes\n",
    "MATCH (:Ranking {name:'Tranco top 1M'})-[r:RANK]-(d:DomainName)-[:PART_OF]-(h:HostName)-[:RESOLVES_TO]-(i:IP)-[:PART_OF]-(pfx:Prefix)-[:CATEGORIZED]-(t:Tag)\n",
    "WHERE d.name = h.name AND ( t.label = 'RPKI Valid' OR t.label STARTS WITH 'RPKI Invalid' )\n",
    "RETURN COUNT(DISTINCT pfx)\"\"\"\n",
    "\n",
    "res, _, _ = db.execute_query(query_rpki, database_=\"neo4j\");\n",
    "rpki_prefixes = res[0][0]\n",
    "print(f'{100*rpki_prefixes/all_prefixes:.1f}% of the prefixes for Tranco are covered by RPKI.')"
   ]
  },
  {
   "cell_type": "code",
   "execution_count": 5,
   "id": "996181dc-e5bc-4ffa-a6bb-2070832a5b01",
   "metadata": {},
   "outputs": [
    {
     "name": "stdout",
     "output_type": "stream",
     "text": [
      "57.0% of the prefixes for Tranco top 100k are covered by RPKI.\n"
     ]
    }
   ],
   "source": [
    "# Get the RPKI coverage for the top 100k\n",
    "query_all_top10k = \"\"\"\n",
    "// Resolve host names and corresponding rankings from the Tranco top 1 million list and count corresponding prefixes\n",
    "MATCH (:Ranking {name:'Tranco top 1M'})-[r:RANK]-(d:DomainName)-[:PART_OF]-(h:HostName)-[:RESOLVES_TO]-(i:IP)-[:PART_OF]-(pfx:Prefix)\n",
    "WHERE r.rank < 100000 AND d.name = h.name \n",
    "RETURN COUNT(DISTINCT pfx)\"\"\"\n",
    "\n",
    "query_rpki_top10k = \"\"\"\n",
    "// Resolve host names and corresponding rankings from the Tranco top 1 million list and count corresponding RPKI valid and invalid prefixes\n",
    "MATCH (:Ranking {name:'Tranco top 1M'})-[r:RANK]-(d:DomainName)-[:PART_OF]-(h:HostName)-[:RESOLVES_TO]-(i:IP)-[:PART_OF]-(pfx:Prefix)-[:CATEGORIZED]-(t:Tag)\n",
    "WHERE r.rank < 100000 AND d.name = h.name AND ( t.label = 'RPKI Valid' OR t.label STARTS WITH 'RPKI Invalid' )\n",
    "RETURN COUNT(DISTINCT pfx)\"\"\"\n",
    "\n",
    "res, _, _ = db.execute_query(query_all_top10k, database_=\"neo4j\");\n",
    "all_prefixes_top10k = res[0][0]\n",
    "res, _, _ = db.execute_query(query_rpki_top10k, database_=\"neo4j\");\n",
    "rpki_prefixes_top10k = res[0][0]\n",
    "print(f'{100*rpki_prefixes_top10k/all_prefixes_top10k:.1f}% of the prefixes for Tranco top 100k are covered by RPKI.')"
   ]
  },
  {
   "cell_type": "code",
   "execution_count": 6,
   "id": "e71bb3d2-d433-491a-ba02-258125865772",
   "metadata": {},
   "outputs": [
    {
     "name": "stdout",
     "output_type": "stream",
     "text": [
      "62.3% of the prefixes for Tranco bottom 100k are covered by RPKI.\n"
     ]
    }
   ],
   "source": [
    "# Get the RPKI coverage for the bottom 100k\n",
    "query_all_bt10k = \"\"\"\n",
    "// Resolve host names and corresponding rankings from the Tranco bottom 1 million list and count corresponding prefixes\n",
    "MATCH (:Ranking {name:'Tranco top 1M'})-[r:RANK]-(d:DomainName)-[:PART_OF]-(h:HostName)-[:RESOLVES_TO]-(i:IP)-[:PART_OF]-(pfx:Prefix)\n",
    "WHERE r.rank > 900000 AND d.name = h.name\n",
    "RETURN COUNT(DISTINCT pfx)\"\"\"\n",
    "\n",
    "query_rpki_bt10k = \"\"\"\n",
    "// Resolve host names and corresponding rankings from the Tranco bottom 1 million list and count corresponding RPKI valid and invalid prefixes\n",
    "MATCH (:Ranking {name:'Tranco top 1M'})-[r:RANK]-(d:DomainName)-[:PART_OF]-(h:HostName)-[:RESOLVES_TO]-(i:IP)-[:PART_OF]-(pfx:Prefix)-[:CATEGORIZED]-(t:Tag)\n",
    "WHERE r.rank > 900000 AND d.name = h.name AND (t.label = 'RPKI Valid' OR t.label STARTS WITH  'RPKI Invalid')\n",
    "RETURN COUNT(DISTINCT pfx)\"\"\"\n",
    "\n",
    "res, _, _ = db.execute_query(query_all_bt10k, database_=\"neo4j\");\n",
    "all_prefixes_bt10k = res[0][0]\n",
    "res, _, _ = db.execute_query(query_rpki_bt10k, database_=\"neo4j\");\n",
    "rpki_prefixes_bt10k = res[0][0]\n",
    "print(f'{100*rpki_prefixes_bt10k/all_prefixes_bt10k:.1f}% of the prefixes for Tranco bottom 100k are covered by RPKI.')"
   ]
  },
  {
   "cell_type": "markdown",
   "id": "81e2a52e-11c0-48d0-9cf4-4cb970b6a47a",
   "metadata": {},
   "source": [
    "## (Section 4.3) RPKI deployment for CDN is low\n",
    "\n",
    "### Original results\n",
    "0.9% domain names on CDN are covered by RPKI.\n",
    "\n"
   ]
  },
  {
   "cell_type": "markdown",
   "id": "bcca10d3-7f43-454b-a9c4-770dd24d331d",
   "metadata": {},
   "source": [
    "### IYP Results"
   ]
  },
  {
   "cell_type": "code",
   "execution_count": 7,
   "id": "fa45002f-fbd4-48a9-88ff-1f0504b67b35",
   "metadata": {},
   "outputs": [
    {
     "name": "stdout",
     "output_type": "stream",
     "text": [
      "71.1% of the CDN prefixes are covered by RPKI.\n"
     ]
    }
   ],
   "source": [
    "query_all_cdn_prefixes = \"\"\"\n",
    "MATCH (:Ranking {name:'Tranco top 1M'})-[r:RANK]-(d:DomainName)-[:PART_OF]-(h:HostName)-[:RESOLVES_TO]-(i:IP)-[:PART_OF]-(pfx:Prefix)-[:ORIGINATE]-(:AS)-[:CATEGORIZED {reference_org:'BGP.Tools'}]-(t:Tag {label:'Content Delivery Network'})\n",
    "RETURN COUNT(DISTINCT pfx.prefix) AS total_pfx\"\"\"\n",
    "\n",
    "query_valid_cdn_prefixes = \"\"\"\n",
    "MATCH (:Ranking {name:'Tranco top 1M'})-[r:RANK]-(d:DomainName)-[:PART_OF]-(h:HostName)-[:RESOLVES_TO]-(i:IP)-[:PART_OF]-(pfx:Prefix)-[:ORIGINATE]-(:AS)-[:CATEGORIZED {reference_org:'BGP.Tools'}]-(t:Tag {label:'Content Delivery Network'})\n",
    "WITH DISTINCT pfx\n",
    "MATCH (pfx)-[:CATEGORIZED]-(t:Tag)\n",
    "WHERE t.label = 'RPKI Valid' OR t.label STARTS WITH  'RPKI Invalid'\n",
    "RETURN COUNT(DISTINCT pfx.prefix) AS nb_valid\n",
    "\"\"\"\n",
    "res, _, _ = db.execute_query(query_all_cdn_prefixes, database_=\"neo4j\");\n",
    "total_cdn_prefixes = res[0][0]\n",
    "res, _, _ = db.execute_query(query_valid_cdn_prefixes, database_=\"neo4j\");\n",
    "valid_cdn_prefixes = res[0][0]\n",
    "print(f'{100*valid_cdn_prefixes/total_cdn_prefixes:.1f}% of the CDN prefixes are covered by RPKI.')"
   ]
  },
  {
   "cell_type": "code",
   "execution_count": 8,
   "id": "ebd2b067-487a-474d-a512-50b7c62c3ef9",
   "metadata": {},
   "outputs": [
    {
     "name": "stdout",
     "output_type": "stream",
     "text": [
      "18.0\tAcademic\n",
      "21.0\tGovernment\n",
      "26.0\tT1\n",
      "32.0\tCarrier\n",
      "35.0\tBusiness Broadband\n",
      "38.0\tMobile Data/Carrier\n",
      "43.0\tServer Hosting\n",
      "44.0\tHome ISP\n",
      "45.0\tTranco 10k Host\n",
      "46.0\tEyeball\n",
      "49.0\tToR Services\n",
      "54.0\tInternet Critical Infra\n",
      "59.0\tVPN Host\n",
      "60.0\tValidating RPKI ROV\n",
      "60.0\tAnycast\n",
      "68.0\tContent Delivery Network\n",
      "71.0\tContent\n",
      "76.0\tDDoS Mitigation\n",
      "79.0\tCorporate/Enterprise\n",
      "82.0\tPersonal ASN\n",
      "84.0\tEvent\n",
      "86.0\tSatellite Internet\n"
     ]
    }
   ],
   "source": [
    "# percentage of RPKI valid prefixes for each BGP.Tools tag\n",
    "query_all_tags = \"\"\"\n",
    "MATCH (t:Tag)-[:CATEGORIZED {reference_org:'BGP.Tools'}]-(:AS)\n",
    "WITH COLLECT(DISTINCT t.label) AS tags\n",
    "UNWIND tags AS tag\n",
    "MATCH (t:Tag {label:tag})-[:CATEGORIZED {reference_org:'BGP.Tools'}]-(:AS)-[:ORIGINATE]-(p:Prefix)\n",
    "WITH tag, t, COUNT(DISTINCT p.prefix) AS total_pfx\n",
    "MATCH (t:Tag {label:tag})-[:CATEGORIZED {reference_org:'BGP.Tools'}]-(a:AS)-[:ORIGINATE]-(p:Prefix)-[:CATEGORIZED]-(tp:Tag)\n",
    "WHERE tp.label = 'RPKI Valid' OR tp.label STARTS WITH  'RPKI Invalid'\n",
    "WITH t, total_pfx, COUNT(DISTINCT p.prefix) AS nb_valid\n",
    "RETURN t.label AS tag, 100*nb_valid/total_pfx AS perc_valid  ORDER by perc_valid\"\"\"\n",
    "\n",
    "res, _, _ = db.execute_query(query_all_tags, database_=\"neo4j\");\n",
    "for tag, perc in res:\n",
    "    print(f'{perc:.1f}\\t{tag}')\n",
    "    "
   ]
  },
  {
   "cell_type": "markdown",
   "id": "18ed8852-1a18-4217-847c-11c9b6f84725",
   "metadata": {},
   "source": [
    "# Groupped by domain names"
   ]
  },
  {
   "cell_type": "code",
   "execution_count": 9,
   "id": "ee1798bb-ce99-4bf3-8098-c714ab265e8f",
   "metadata": {},
   "outputs": [
    {
     "name": "stdout",
     "output_type": "stream",
     "text": [
      "79.0% of the domains in Tranco are covered by RPKI.\n",
      "895969\n"
     ]
    }
   ],
   "source": [
    "query_rpki = \"\"\"\n",
    "// Resolve host names and corresponding rankings from the Tranco top 1 million list and count corresponding RPKI invalid prefixes\n",
    "MATCH (:Ranking {name:'Tranco top 1M'})-[r:RANK]-(d:DomainName)-[:PART_OF]-(h:HostName)-[:RESOLVES_TO]-(i:IP)-[:PART_OF]-(pfx:Prefix)\n",
    "WHERE d.name = h.name\n",
    "RETURN COUNT(DISTINCT d)\"\"\"\n",
    "res, _, _ = db.execute_query(query_rpki, database_=\"neo4j\");\n",
    "all_domain = res[0][0]\n",
    "\n",
    "\n",
    "query_rpki = \"\"\"\n",
    "// Resolve host names and corresponding rankings from the Tranco top 1 million list and count corresponding RPKI invalid prefixes\n",
    "MATCH (:Ranking {name:'Tranco top 1M'})-[r:RANK]-(d:DomainName)-[:PART_OF]-(h:HostName)-[:RESOLVES_TO]-(i:IP)-[:PART_OF]-(pfx:Prefix)-[:CATEGORIZED]-(t:Tag)\n",
    "WHERE d.name = h.name AND ( t.label = 'RPKI Valid' OR t.label STARTS WITH 'RPKI Invalid' )\n",
    "RETURN COUNT(DISTINCT d)\"\"\"\n",
    "\n",
    "res, _, _ = db.execute_query(query_rpki, database_=\"neo4j\");\n",
    "rpki_domain = res[0][0]\n",
    "print(f'{100*rpki_domain/all_domain:.1f}% of the domains in Tranco are covered by RPKI.')\n",
    "print(f'{all_domain}')\n"
   ]
  }
 ],
 "metadata": {
  "kernelspec": {
   "display_name": "Python 3 (ipykernel)",
   "language": "python",
   "name": "python3"
  },
  "language_info": {
   "codemirror_mode": {
    "name": "ipython",
    "version": 3
   },
   "file_extension": ".py",
   "mimetype": "text/x-python",
   "name": "python",
   "nbconvert_exporter": "python",
   "pygments_lexer": "ipython3",
   "version": "3.12.4"
  }
 },
 "nbformat": 4,
 "nbformat_minor": 5
}
