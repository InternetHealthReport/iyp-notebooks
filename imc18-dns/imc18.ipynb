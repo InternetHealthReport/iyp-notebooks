{
 "cells": [
  {
   "cell_type": "markdown",
   "id": "dab1e20c-91dd-424e-978f-aefd708400e8",
   "metadata": {},
   "source": [
    "# [Comments on DNS Robustness, Mark Allman, IMC'18](https://www.icir.org/mallman/pubs/All18a/All18a.pdf)\n",
    "\n",
    "## Summary\n",
    "### Approach\n",
    "This paper investigates the robustness of the DNS ecosystem for popular domain names. Using Alexa top1M lists and zone files for the .com, .net, .org TLDs.\n",
    "\n",
    "\n",
    "### Datasets\n",
    "Nine years of data (2009 to 2018):\n",
    "- Alexa top 1M\n",
    "- TLD Zone Files (.com, .net, .org)\n",
    "\n",
    "Also includes traceroutes (only for 2018).\n",
    "\n",
    "\n",
    "### Limitations / Future work\n",
    "**Only 3 TLDs**: They have only have .com, .net, .org zone files so limit their study to these three TLDs domains.\n",
    "The paper says that looking at more TLDs is left for future work (end of 'Dataset A', section 3.1). \n",
    "\n",
    "**Topological determination**: The topological diversity of servers is checked simply by looking if nameservers are in the same /24 or not. The paper says that better historical routing information will be used in future work to refine the analysis (section 3.2, step 3).\n",
    "\n",
    "**Anycast prefixes**: One limitation of the original study is to ignore anycast prefixes (they keep that for future work). We can check that for them :)\n",
    "\n",
    "**IPv6**: Original paper looks only at IPv4? we can do both"
   ]
  },
  {
   "cell_type": "markdown",
   "id": "09aa6bfc-d8af-4c4c-a004-4152a1cc4116",
   "metadata": {},
   "source": [
    "## (Section 3.1) Coverage of .com, .net, .org in popularity list \n",
    "The paper considers domain names from only three TLDs but shows that it represents the majority of the Alexa top 1M.\n",
    "\n",
    "### Original results\n",
    "<img src=\"fig/fig1.png\" style=\"height: 400px;\"/>\n",
    "\n",
    "- The paper reports that between 2009 and 2018, the three TLDs constitute at least 56% of the Alexa list.\n",
    "- Out of these the paper ignores 12-15% SLDs because their nameservers are under different TLDs."
   ]
  },
  {
   "cell_type": "markdown",
   "id": "a5cf54c3-d094-4a34-aefc-9472115854e4",
   "metadata": {},
   "source": [
    "### IYP Results"
   ]
  },
  {
   "cell_type": "code",
   "execution_count": 2,
   "id": "cfa87b4e-b4f5-4ad1-8691-29b975119955",
   "metadata": {},
   "outputs": [],
   "source": [
    "# Setup access to IYP\n",
    "\n",
    "from neo4j import GraphDatabase, RoutingControl\n",
    "from collections import defaultdict\n",
    "\n",
    "# Using IYP local instance\n",
    "# URI = \"neo4j://localhost:7687\"\n",
    "# Using IYP public instance\n",
    "URI = \"neo4j+s://iyp-bolt.iijlab.net:7687\"\n",
    "AUTH = ('neo4j', 'password')\n",
    "db = GraphDatabase.driver(URI, auth=AUTH)"
   ]
  },
  {
   "cell_type": "code",
   "execution_count": 54,
   "id": "6e036962-a780-4216-a641-302e84fd48d8",
   "metadata": {},
   "outputs": [
    {
     "name": "stdout",
     "output_type": "stream",
     "text": [
      "49.1% of Tranco top1M domain names are under the .com, .net, or .org TLD.\n"
     ]
    }
   ],
   "source": [
    "# Get the percentage of .com, .net, and .org domain names in Tranco top 1M\n",
    "query = \"\"\"MATCH (r:Ranking {name:'Tranco top 1M'})-[:RANK]-(d:DomainName)-[:MANAGED_BY]-(a:AuthoritativeNameServer)\n",
    "WHERE d.name ENDS WITH '.com' OR d.name ENDS WITH '.net' OR d.name ENDS WITH '.org'\n",
    "RETURN COUNT(DISTINCT d.name)\"\"\"\n",
    "\n",
    "res, _, _ = db.execute_query(query, database_=\"neo4j\");\n",
    "nb_sld = res[0][0]\n",
    "print(f'{100*nb_sld/1000000:.1f}% of Tranco top1M domain names are under the .com, .net, or .org TLD.')"
   ]
  },
  {
   "cell_type": "code",
   "execution_count": 28,
   "id": "74875bf4-588c-42bc-b52a-a913c82b07cc",
   "metadata": {},
   "outputs": [
    {
     "name": "stdout",
     "output_type": "stream",
     "text": [
      "10.3% of Tranco top1M domain names are ignored by the original paper assumptions (only .com, .net, .org nameservers).\n"
     ]
    }
   ],
   "source": [
    "# Find the percentage of domain names that have nameservers not in the .com, .net, and .org TLDs\n",
    "query = \"\"\"MATCH (r:Ranking {name:'Tranco top 1M'})-[:RANK]-(d:DomainName)-[m:MANAGED_BY {reference_name:'openintel.dnsgraph_nl'}]-(a:AuthoritativeNameServer)\n",
    "WHERE (d.name ENDS WITH '.com' OR d.name ENDS WITH '.net' OR d.name ENDS WITH '.org')\n",
    "WITH d, COLLECT(a) AS ns, COLLECT(m) AS managed\n",
    "// check if all nameservers are outside the zone and have no glue\n",
    "WHERE all( a in ns WHERE NOT a.name ENDS WITH '.com' AND NOT d.name ENDS WITH '.net' AND NOT d.name ENDS WITH '.org') AND all( m in managed WHERE m.should_follow_glue_v4 = false)\n",
    "RETURN COUNT(DISTINCT d.name)\"\"\"\n",
    "\n",
    "res, _, _ = db.execute_query(query, database_=\"neo4j\");\n",
    "nb_excluded = res[0][0]\n",
    "print(f'{100*nb_excluded/nb_sld:.1f}% of Tranco top1M domain names are ignored by the original paper assumptions (only .com, .net, .org nameservers).')\n"
   ]
  },
  {
   "cell_type": "markdown",
   "id": "41988083-3f94-4f2f-a7ca-a0a2080e4187",
   "metadata": {},
   "source": [
    "## (Section 4.1) Nameserver Replicas\n",
    "The paper checks nameserver requirements for each .com, .net, and .org SLD, that is at least two nameservers should be deployed in two different locations (different /24 prefixes).\n",
    "\n",
    "### Original Results\n",
    "\n",
    "<img src=\"fig/fig3.png\" style=\"height: 400px;\"/>\n",
    "\n",
    "The three curves are obtained using data from the three zones files.\n",
    "The dots on the right hand side of the figure are for a refine analysis using traceroute data."
   ]
  },
  {
   "cell_type": "markdown",
   "id": "d4be3919-d629-4fbb-82ee-6c0abe123901",
   "metadata": {},
   "source": [
    "### IYP Results"
   ]
  },
  {
   "cell_type": "code",
   "execution_count": 41,
   "id": "adc528d7-dccd-49b2-839c-0b02b0baf059",
   "metadata": {
    "scrolled": true
   },
   "outputs": [
    {
     "name": "stdout",
     "output_type": "stream",
     "text": [
      "4.4% of domain names don't meet the nameserver requirements.\n",
      "66.9% of domain names exceed the nameserver requirements.\n",
      "18.4% of domain names meet the nameserver requirements.\n"
     ]
    }
   ],
   "source": [
    "# Get the number of domain names that meet, not meet, and exceed the nameserver requirements (same limitations as original studies)\n",
    "query = \"\"\" // Exclude domain names that have nameservers outside of the .com, .net, .org TLDs and no glue record\n",
    "MATCH (r:Ranking {name:'Tranco top 1M'})-[:RANK]-(d:DomainName)-[m:MANAGED_BY {reference_name:'openintel.dnsgraph_nl'}]-(a:AuthoritativeNameServer)\n",
    "WHERE (d.name ENDS WITH '.com' OR d.name ENDS WITH '.net' OR d.name ENDS WITH '.org')\n",
    "WITH d, COLLECT(a) AS ns, COLLECT(m) AS managed\n",
    "// check if all nameservers are outside the zone and have no glue\n",
    "WHERE all( a in ns WHERE NOT a.name ENDS WITH '.com' AND NOT d.name ENDS WITH '.net' AND NOT d.name ENDS WITH '.org') AND all( m in managed WHERE m.should_follow_glue_v4 = false)\n",
    "WITH COLLECT(DISTINCT d.name) AS partial_cover\n",
    "\n",
    "// Count nameserver's /24 per domain name\n",
    "MATCH (r:Ranking {name:'Tranco top 1M'})-[:RANK]-(d:DomainName)-[:MANAGED_BY]-(a:AuthoritativeNameServer)\n",
    "WHERE (d.name ENDS WITH '.com' OR d.name ENDS WITH '.net' OR d.name ENDS WITH '.org') AND NOT d.name IN partial_cover\n",
    "OPTIONAL MATCH (d)-[:MANAGED_BY]-(ans:AuthoritativeNameServer)-[:RESOLVES_TO]-(i:IP {af:4})\n",
    "WITH d.name as dname, COUNT(DISTINCT REDUCE(pfx = \"\", n IN SPLIT(i.ip, '.')[0..3] | pfx + n + \".\")) AS nb_pfx\n",
    "WITH dname,\n",
    "CASE\n",
    "     WHEN nb_pfx = 2 THEN \"meet\"\n",
    "     WHEN nb_pfx < 2 THEN \"don't meet\"\n",
    "     WHEN nb_pfx > 2 THEN \"exceed\"\n",
    "     ELSE \"unk.\"\n",
    "END AS ns_req\n",
    "RETURN ns_req, COUNT(DISTINCT dname) AS count\"\"\"\n",
    "\n",
    "res, _, _ = db.execute_query(query, database_=\"neo4j\")\n",
    "for r in res:\n",
    "    print(f'{100*r[\"count\"]/nb_sld:.1f}% of domain names {r[\"ns_req\"]} the nameserver requirements.')"
   ]
  },
  {
   "cell_type": "code",
   "execution_count": 42,
   "id": "c74f4853-7db7-468f-a61c-1d22f4773967",
   "metadata": {
    "scrolled": true
   },
   "outputs": [
    {
     "name": "stdout",
     "output_type": "stream",
     "text": [
      "69.3% of domain names exceed the nameserver requirements.\n",
      "6.1% of domain names don't meet the nameserver requirements.\n",
      "22.4% of domain names meet the nameserver requirements.\n"
     ]
    }
   ],
   "source": [
    "# Get the number of domain names that meet, not meet, and exceed the nameserver requirements for all Tranco\n",
    "query = \"\"\"\n",
    "// Count nameserver's /24 per domain name\n",
    "MATCH (r:Ranking {name:'Tranco top 1M'})-[:RANK]-(d:DomainName)-[:MANAGED_BY]-(a:AuthoritativeNameServer)\n",
    "OPTIONAL MATCH (d)-[:MANAGED_BY]-(ans:AuthoritativeNameServer)-[:RESOLVES_TO]-(i:IP {af:4})\n",
    "WITH d.name as dname, COUNT(DISTINCT REDUCE(pfx = \"\", n IN SPLIT(i.ip, '.')[0..3] | pfx + n + \".\")) AS nb_pfx\n",
    "WITH dname,\n",
    "CASE\n",
    "     WHEN nb_pfx = 2 THEN \"meet\"\n",
    "     WHEN nb_pfx < 2 THEN \"don't meet\"\n",
    "     WHEN nb_pfx > 2 THEN \"exceed\"\n",
    "     ELSE \"unk.\"\n",
    "END AS ns_req\n",
    "RETURN ns_req, COUNT(DISTINCT dname) AS count\"\"\"\n",
    "\n",
    "res, _, _ = db.execute_query(query, database_=\"neo4j\")\n",
    "for r in res:\n",
    "    print(f'{100*r[\"count\"]/1000000:.1f}% of domain names {r[\"ns_req\"]} the nameserver requirements.')"
   ]
  },
  {
   "cell_type": "markdown",
   "id": "3d91486b-187a-4ce3-a5ad-fbefb0313d43",
   "metadata": {},
   "source": [
    "## (Section 4.2) Glue Location\n",
    "The paper also look for domain names that have a nameserver under the same TLD of the domain name. For example, a nameserver for www.example.com is ns1.example.com.\n",
    "\n",
    "### Original Results\n",
    "\n",
    "The original study founds that 69-73% of the popular SLDs have at least one in-zone NS record."
   ]
  },
  {
   "cell_type": "markdown",
   "id": "216883d8-ff85-4653-84e2-95f6059a5ad7",
   "metadata": {},
   "source": [
    "### IYP Results"
   ]
  },
  {
   "cell_type": "code",
   "execution_count": 33,
   "id": "c07adb66-6009-4926-9f60-f5fa4a201d8a",
   "metadata": {
    "scrolled": true
   },
   "outputs": [
    {
     "name": "stdout",
     "output_type": "stream",
     "text": [
      "76.7% of domain names have a in-zone nameserver.\n"
     ]
    }
   ],
   "source": [
    "# Get the number of domain names with a in-zone nameserver\n",
    "old_query = \"\"\" // Infer the domain that have glue records in the same zone\n",
    "WHERE (d.name ENDS WITH '.com' OR d.name ENDS WITH '.net' OR d.name ENDS WITH '.org') AND ( right(d.name, 3) = right(a.name, 3) )\n",
    "RETURN COUNT(DISTINCT d.name)\"\"\"\n",
    "\n",
    "query = \"\"\" // Count the domain that have glue records in the same zone\n",
    "MATCH (r:Ranking {name:'Tranco top 1M'})-[:RANK]-(d:DomainName)-[m:MANAGED_BY {reference_name:'openintel.dnsgraph_nl'}]-(a:AuthoritativeNameServer)\n",
    "WHERE (d.name ENDS WITH '.com' OR d.name ENDS WITH '.net' OR d.name ENDS WITH '.org') AND m.should_follow_glue_v4 = true\n",
    "RETURN COUNT(DISTINCT d.name)\"\"\"\n",
    "\n",
    "res, _, _ = db.execute_query(query, database_=\"neo4j\")\n",
    "nb_glue = res[0][0]\n",
    "print(f'{100*nb_glue/nb_sld:.1f}% of domain names have a in-zone nameserver.')"
   ]
  },
  {
   "cell_type": "markdown",
   "id": "452b9ee4-127b-4dad-9b5d-fcc9746e71bd",
   "metadata": {},
   "source": [
    "## (Section 5) Shared Infrastructure\n",
    "Next the paper investigates domain names that use the exact same set of nameservers. \n",
    "\n",
    "### Original Results\n",
    "<img src=\"fig/fig4.png\" style=\"height: 400px;\"/>\n",
    "\n",
    "Grouped by nameservers (April 2018):\n",
    "- Median: Half the domain names exactly share a set of nameservers with at least **163** other domain names.\n",
    "- Maximum: The largest group contains **9K** domain names that share the exact same set of nameservers.\n",
    "\n",
    "Grouped by /24 prefixes (April 2018):\n",
    "- Median: **3k**\n",
    "- Maximum: **71k**"
   ]
  },
  {
   "cell_type": "markdown",
   "id": "d001da10-420b-4874-aed8-002f9d12a753",
   "metadata": {},
   "source": [
    "### IYP Results"
   ]
  },
  {
   "cell_type": "code",
   "execution_count": 57,
   "id": "c226c4de-176d-419c-9eba-5d4681b9bb6c",
   "metadata": {
    "scrolled": true
   },
   "outputs": [
    {
     "name": "stdout",
     "output_type": "stream",
     "text": [
      "Median: 9 domains for the same authoritative nameservers.\n",
      "Maximum: 6055 domains for the same authoritative nameservers.\n"
     ]
    }
   ],
   "source": [
    "query = \"\"\" // List nameservers for .com/.org/.net domain names in Tranco\n",
    "MATCH (r:Ranking {name:'Tranco top 1M'})-[:RANK]-(d:DomainName)-[:MANAGED_BY]-(a:AuthoritativeNameServer) \n",
    "WHERE d.name ENDS WITH '.com' OR d.name ENDS WITH '.net' OR d.name ENDS WITH '.org'\n",
    "RETURN d, COLLECT(DISTINCT a.name) AS auths\"\"\"\n",
    "\n",
    "res, _, _ = db.execute_query(query, database_=\"neo4j\")\n",
    "\n",
    "counts = defaultdict(int)\n",
    "for r in res:\n",
    "    counts[frozenset(list(r[1]))] += 1\n",
    "\n",
    "sorted_counts = list(counts.values())\n",
    "sorted_counts.sort()\n",
    "sorted_counts.reverse()\n",
    "\n",
    "total = sum(sorted_counts)\n",
    "\n",
    "cum = 0\n",
    "for c in sorted_counts:\n",
    "    cum += c\n",
    "    if cum >= total/2:\n",
    "        print(f'Median: {c} domains for the same authoritative nameservers.')\n",
    "        break\n",
    "\n",
    "print(f'Maximum: {sorted_counts[0]} domains for the same authoritative nameservers.')"
   ]
  },
  {
   "cell_type": "code",
   "execution_count": 36,
   "id": "36c36ac6-c27d-4956-b9dd-3d0b2881c210",
   "metadata": {
    "scrolled": true
   },
   "outputs": [
    {
     "name": "stdout",
     "output_type": "stream",
     "text": [
      "Median: 3959 domains for the same set of /24s.\n",
      "Maximum: 114307 domains for the same set of /24s.\n"
     ]
    }
   ],
   "source": [
    "query = \"\"\" // List /24 prefixes of nameservers for .com/.net/.org domain names in Tranco\n",
    "MATCH  (r:Ranking {name:'Tranco top 1M'})-[:RANK]-(d:DomainName)-[:MANAGED_BY]-(a:AuthoritativeNameServer)-[:RESOLVES_TO]-(i:IP {af:4})\n",
    "WHERE d.name ENDS WITH '.com' OR d.name ENDS WITH '.net' OR d.name ENDS WITH '.org'\n",
    "RETURN d, COLLECT(DISTINCT REDUCE(pfx = \"\", n IN SPLIT(i.ip, '.')[0..3] | pfx + n + \".\")) AS pfx\"\"\"\n",
    "\n",
    "res, _, _ = db.execute_query(query, database_=\"neo4j\")\n",
    "\n",
    "counts = defaultdict(int)\n",
    "for r in res:\n",
    "    counts[frozenset(list(r[1]))] += 1\n",
    "\n",
    "sorted_counts = list(counts.values())\n",
    "sorted_counts.sort()\n",
    "sorted_counts.reverse()\n",
    "\n",
    "total = sum(sorted_counts)\n",
    "\n",
    "cum = 0\n",
    "for c in sorted_counts:\n",
    "    cum += c\n",
    "    if cum >= total/2:\n",
    "        print(f'Median: {c} domains for the same set of /24s.')\n",
    "        break\n",
    "\n",
    "\n",
    "print(f'Maximum: {sorted_counts[0]} domains for the same set of /24s.')\n"
   ]
  },
  {
   "cell_type": "markdown",
   "id": "e20d1843-76e9-444d-bfaf-481275391a4e",
   "metadata": {},
   "source": [
    "# Extension\n",
    "Results for all domain names in Tranco and grouping by BGP prefix"
   ]
  },
  {
   "cell_type": "code",
   "execution_count": 60,
   "id": "a5c34541-bb53-42af-9eec-95081925263c",
   "metadata": {
    "scrolled": true
   },
   "outputs": [
    {
     "name": "stdout",
     "output_type": "stream",
     "text": [
      "Median: 15 domains for the same authoritative nameservers.\n",
      "Maximum: 25707 domains for the same authoritative nameservers.\n"
     ]
    }
   ],
   "source": [
    "query = \"\"\" // List nameservers for all domain names in Tranco\n",
    "MATCH (r:Ranking {name:'Tranco top 1M'})-[:RANK]-(d:DomainName)-[:MANAGED_BY]-(a:AuthoritativeNameServer) \n",
    "RETURN d, COLLECT(DISTINCT a.name) AS auths\"\"\"\n",
    "\n",
    "res, _, _ = db.execute_query(query, database_=\"neo4j\")\n",
    "\n",
    "counts = defaultdict(int)\n",
    "for r in res:\n",
    "    counts[frozenset(list(r[1]))] += 1\n",
    "\n",
    "sorted_counts = list(counts.values())\n",
    "sorted_counts.sort()\n",
    "sorted_counts.reverse()\n",
    "\n",
    "total = sum(sorted_counts)\n",
    "\n",
    "cum = 0\n",
    "for c in sorted_counts:\n",
    "    cum += c\n",
    "    if cum >= total/2:\n",
    "        print(f'Median: {c} domains for the same authoritative nameservers.')\n",
    "        break\n",
    "\n",
    "print(f'Maximum: {sorted_counts[0]} domains for the same authoritative nameservers.')"
   ]
  },
  {
   "cell_type": "code",
   "execution_count": 47,
   "id": "64ef018f-40b2-4db1-8279-603ade37f772",
   "metadata": {},
   "outputs": [
    {
     "name": "stdout",
     "output_type": "stream",
     "text": [
      "Median: 4148 domains for the same set of prefixes.\n",
      "Maximum: 114307 domains for the same set of prefixes.\n"
     ]
    }
   ],
   "source": [
    "query = \"\"\" // List BGP prefixes of nameservers for .com/.net/.org domain names in Tranco\n",
    "MATCH  (r:Ranking {name:'Tranco top 1M'})-[:RANK]-(d:DomainName)-[:MANAGED_BY]-(a:AuthoritativeNameServer)-[:RESOLVES_TO]-(i:IP {af:4})-[:PART_OF]-(pfx:Prefix)\n",
    "WHERE d.name ENDS WITH '.com' OR d.name ENDS WITH '.net' OR d.name ENDS WITH '.org'\n",
    "RETURN d, COLLECT(DISTINCT pfx)\"\"\"\n",
    "\n",
    "res, _, _ = db.execute_query(query, database_=\"neo4j\")\n",
    "\n",
    "counts = defaultdict(int)\n",
    "for r in res:\n",
    "    counts[frozenset(list(r[1]))] += 1\n",
    "\n",
    "sorted_counts = list(counts.values())\n",
    "sorted_counts.sort()\n",
    "sorted_counts.reverse()\n",
    "\n",
    "total = sum(sorted_counts)\n",
    "\n",
    "cum = 0\n",
    "for c in sorted_counts:\n",
    "    cum += c\n",
    "    if cum >= total/2:\n",
    "        print(f'Median: {c} domains for the same set of prefixes.')\n",
    "        break\n",
    "\n",
    "\n",
    "print(f'Maximum: {sorted_counts[0]} domains for the same set of prefixes.')\n"
   ]
  },
  {
   "cell_type": "code",
   "execution_count": 51,
   "id": "e7321af6-53f9-44cd-879e-910ae8f9ea1d",
   "metadata": {},
   "outputs": [
    {
     "name": "stdout",
     "output_type": "stream",
     "text": [
      "Median: 6020 domains for the same set of /24s.\n",
      "Maximum: 187732 domains for the same set of /24s.\n",
      "Number of groups 71243\n"
     ]
    }
   ],
   "source": [
    "query = \"\"\" // List prefixes of nameservers for all domain names in Tranco\n",
    "MATCH  (r:Ranking {name:'Tranco top 1M'})-[:RANK]-(d:DomainName)-[:MANAGED_BY]-(a:AuthoritativeNameServer)-[:RESOLVES_TO]-(i:IP {af:4})-[:PART_OF]-(pfx:Prefix)\n",
    "RETURN d, COLLECT(DISTINCT pfx)\"\"\"\n",
    "\n",
    "res, _, _ = db.execute_query(query, database_=\"neo4j\")\n",
    "\n",
    "counts = defaultdict(int)\n",
    "for r in res:\n",
    "    counts[frozenset(list(r[1]))] += 1\n",
    "\n",
    "sorted_counts = list(counts.values())\n",
    "sorted_counts.sort()\n",
    "sorted_counts.reverse()\n",
    "\n",
    "total = sum(sorted_counts)\n",
    "\n",
    "cum = 0\n",
    "for c in sorted_counts:\n",
    "    cum += c\n",
    "    if cum >= total/2:\n",
    "        print(f'Median: {c} domains for the same set of prefixes.')\n",
    "        break\n",
    "\n",
    "\n",
    "print(f'Maximum: {sorted_counts[0]} domains for the same set of prefixes.')\n",
    "print(f'Number of groups {len(sorted_counts)}')"
   ]
  },
  {
   "cell_type": "markdown",
   "id": "6fe4f1f1-e68e-4db9-a0d6-9df73d5cf033",
   "metadata": {},
   "source": [
    "# TODO remove the next one\n"
   ]
  },
  {
   "cell_type": "code",
   "execution_count": 62,
   "id": "ec8f7d4e-059a-41e4-8799-095536d831d4",
   "metadata": {},
   "outputs": [
    {
     "name": "stdout",
     "output_type": "stream",
     "text": [
      "Median: 6020 domains for the same set of prefixes.\n",
      "Maximum: 187732 domains for the same set of prefixes.\n",
      "Number of groups 71243\n"
     ]
    }
   ],
   "source": [
    "query = \"\"\" // List anycast prefixes of nameservers for domain names having only anycasted nameservers\n",
    "MATCH  (r:Ranking {name:'Tranco top 1M'})-[:RANK]-(d:DomainName)-[:MANAGED_BY]-(a:AuthoritativeNameServer)-[:RESOLVES_TO]-(i:IP {af:4})-[:PART_OF]-(pfx:Prefix)\n",
    "OPTIONAL MATCH (pfx)-[:CATEGORIZED]-(t:Tag {label:'Anycast'})\n",
    "WITH d, COLLECT(DISTINCT pfx) AS pfxs, COLLECT(DISTINCT t) AS tags\n",
    "MATCH (d)\n",
    "WHERE all(tag in tags WHERE tag IS NOT NULL)\n",
    "RETURN d, pfxs\"\"\"\n",
    "\n",
    "res, _, _ = db.execute_query(query, database_=\"neo4j\")\n",
    "\n",
    "counts = defaultdict(int)\n",
    "for r in res:\n",
    "    counts[frozenset(list(r[1]))] += 1\n",
    "\n",
    "sorted_counts = list(counts.values())\n",
    "sorted_counts.sort()\n",
    "sorted_counts.reverse()\n",
    "\n",
    "total = sum(sorted_counts)\n",
    "\n",
    "cum = 0\n",
    "for c in sorted_counts:\n",
    "    cum += c\n",
    "    if cum >= total/2:\n",
    "        print(f'Median: {c} domains for the same set of prefixes.')\n",
    "        break\n",
    "\n",
    "\n",
    "print(f'Maximum: {sorted_counts[0]} domains for the same set of prefixes.')\n",
    "print(f'Number of groups {len(sorted_counts)}')\n"
   ]
  },
  {
   "cell_type": "markdown",
   "id": "e2fd6144-a5fe-44fd-b133-34a7903c7112",
   "metadata": {},
   "source": [
    "## IYP Limitations\n",
    "- Longitudinal Analysis: Original paper has 9 years of data\n",
    "- Traceroute results: We don't have traceroutes to reproduce the validation step they did with traceroutes \n",
    "(but maybe our results are closer to the validation results?)\n",
    "- "
   ]
  },
  {
   "cell_type": "markdown",
   "id": "255b6d5b-2092-42c5-ac40-29331b8cbb20",
   "metadata": {},
   "source": [
    "# RPKI and DNS\n",
    "\n",
    "Mixing the RiPKI and DNS Robustness paper. We look at the percentage of prefixes hosting nameservers that are protected by RPKI."
   ]
  },
  {
   "cell_type": "code",
   "execution_count": 3,
   "id": "6198524b-a690-42bd-a01e-a0624fda876a",
   "metadata": {},
   "outputs": [
    {
     "name": "stdout",
     "output_type": "stream",
     "text": [
      "48% of the prefixes hosting nameserver are protected by RPKI.\n"
     ]
    }
   ],
   "source": [
    "query = \"\"\" // NS servers covered by RPKI\n",
    "MATCH  (r:Ranking {name:'Tranco top 1M'})-[:RANK]-(d:DomainName)-[:MANAGED_BY]-(a:AuthoritativeNameServer)-[:RESOLVES_TO]-(i:IP)-[:PART_OF]-(pfx:Prefix)\n",
    "WITH COUNT(DISTINCT pfx) AS total_pfx\n",
    "\n",
    "MATCH  (r:Ranking {name:'Tranco top 1M'})-[:RANK]-(d:DomainName)-[:MANAGED_BY]-(a:AuthoritativeNameServer)-[:RESOLVES_TO]-(i:IP)-[:PART_OF]-(pfx:Prefix)-[:CATEGORIZED]-(t:Tag)\n",
    "WHERE t.label = 'RPKI Valid' OR t.label STARTS WITH  'RPKI Invalid'\n",
    "WITH total_pfx, COUNT(DISTINCT pfx) as valid_pfx\n",
    "RETURN 100*valid_pfx/total_pfx\"\"\"\n",
    "\n",
    "res, _, _ = db.execute_query(query, database_=\"neo4j\")\n",
    "prec_v4 = res[0][0]\n",
    "print(f'{res[0][0]}% of the prefixes hosting nameserver are protected by RPKI.')"
   ]
  },
  {
   "cell_type": "code",
   "execution_count": null,
   "id": "f6d53e34-0cb9-425e-872d-32b7931b498e",
   "metadata": {},
   "outputs": [],
   "source": [
    "query = \"\"\" // NS servers covered by RPKI\n",
    "MATCH  (r:Ranking {name:'Tranco top 1M'})-[:RANK]-(d:DomainName)-[:MANAGED_BY]-(a:AuthoritativeNameServer)-[:RESOLVES_TO]-(i:IP {af:6})-[:PART_OF]-(pfx:Prefix)\n",
    "WITH COUNT(DISTINCT pfx) AS total_pfx\n",
    "\n",
    "MATCH  (r:Ranking {name:'Tranco top 1M'})-[:RANK]-(d:DomainName)-[:MANAGED_BY]-(a:AuthoritativeNameServer)-[:RESOLVES_TO]-(i:IP {af:6})-[:PART_OF]-(pfx:Prefix)-[:CATEGORIZED]-(t:Tag)\n",
    "WHERE t.label = 'RPKI Valid' OR t.label STARTS WITH  'RPKI Invalid'\n",
    "WITH total_pfx, COUNT(DISTINCT pfx) as valid_pfx\n",
    "RETURN 100*valid_pfx/total_pfx\"\"\"\n",
    "\n",
    "res, _, _ = db.execute_query(query, database_=\"neo4j\")\n",
    "prec_v4 = res[0][0]\n",
    "print(f'{res[0][0]}% of the IPv4 prefixes hosting nameserver are protected by RPKI.')"
   ]
  },
  {
   "cell_type": "code",
   "execution_count": null,
   "id": "b6b0bde8-b9ae-4ebe-80ca-a04b00bdff85",
   "metadata": {},
   "outputs": [],
   "source": []
  }
 ],
 "metadata": {
  "kernelspec": {
   "display_name": "iyp-paper",
   "language": "python",
   "name": "iyp-paper"
  },
  "language_info": {
   "codemirror_mode": {
    "name": "ipython",
    "version": 3
   },
   "file_extension": ".py",
   "mimetype": "text/x-python",
   "name": "python",
   "nbconvert_exporter": "python",
   "pygments_lexer": "ipython3",
   "version": "3.11.8"
  }
 },
 "nbformat": 4,
 "nbformat_minor": 5
}
